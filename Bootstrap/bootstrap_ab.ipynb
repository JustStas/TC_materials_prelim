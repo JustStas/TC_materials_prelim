{
 "cells": [
  {
   "cell_type": "code",
   "execution_count": 5,
   "metadata": {},
   "outputs": [],
   "source": [
    "import numpy as np\n",
    "np.random.seed(42)"
   ]
  },
  {
   "cell_type": "code",
   "execution_count": 6,
   "metadata": {},
   "outputs": [],
   "source": [
    "def loop_bootstrap(a: np.ndarray, bs_iters: int = 10000, agg=\"mean\", **kwargs) -> np.ndarray:\n",
    "    \"\"\"Return a sampling with replacement with given number of iterations\n",
    "\n",
    "    Arguments:\n",
    "    a:          Dataset to sample from\n",
    "    bs_iters:   Number of sampl ing iteration\n",
    "    agg:        Aggregation method to use, must be in [\"mean\", \"median\", \"quantile\"]\n",
    "    Returns:\n",
    "    np.ndarray with samples of size(bs_iters, len(a))\n",
    "    \"\"\"\n",
    "    if agg not in [\"mean\", \"median\", \"quantile\"]:\n",
    "        raise ValueError(\"agg should be in ['mean', 'median', 'quantile']\")\n",
    "    res = []\n",
    "    for _ in range(bs_iters):\n",
    "        if agg == \"mean\":\n",
    "            res.append(np.mean(np.random.choice(a, len(a), replace=True)))\n",
    "        elif agg == \"median\":\n",
    "            res.append(np.median(np.random.choice(a, len(a), replace=True)))\n",
    "        elif agg == \"quantile\":\n",
    "            res.append(np.quantile(np.random.choice(a, len(a), replace=True)), q=kwargs[\"q\"])\n",
    "    return np.array(res)\n",
    "\n",
    "def bootstrap_diff(\n",
    "    a: np.ndarray, b: np.ndarray, bs_iters: int = 10000, metric: str = \"mean\", **kwargs\n",
    ") -> np.ndarray:\n",
    "    \"\"\"Return a sampling with replacement with given number of iterations\n",
    "\n",
    "    Arguments:\n",
    "    a:          Dataset A (control)\n",
    "    b:          Dataset B (treatment)\n",
    "    bs_iters:   Number of sampling iteration for bootstrap\n",
    "    metric:     Metric to compute difference from, must be in [\"mean\", \"median\", \"quantile\"]\n",
    "    Optional Arguments:\n",
    "    q:          Quantile or sequence of quantiles to compute, which must be between 0 and 1 inclusive.\n",
    "    Returns:\n",
    "    np.ndarray with differences of shape (bs_iters)\n",
    "    \"\"\"\n",
    "\n",
    "    diffs = []\n",
    "\n",
    "    a_agg = loop_bootstrap(a, bs_iters, agg=metric, **kwargs)\n",
    "    b_agg = loop_bootstrap(b, bs_iters, agg=metric, **kwargs)\n",
    "    diffs.append(b_agg - a_agg)\n",
    "\n",
    "    return np.array(diffs).flatten()\n",
    "\n",
    "def ci(diffs: np.ndarray, alpha: float = 0.05, **kwargs):\n",
    "    # -> tuple[tuple[float, float], bool]:\n",
    "    \"\"\"Return a sampling with replacement with given number of iterations\n",
    "\n",
    "    Arguments:\n",
    "        diffs:  Dataset to compute percentiles upon\n",
    "        alpha:  Confidence interval alpha\n",
    "    Returns:\n",
    "        tuple[tuple[CI left, CI right], Bool]: True if CI includes zero, else False)\n",
    "    \"\"\"\n",
    "    ci_l = np.percentile(diffs, (alpha / 2) * 100)\n",
    "    ci_r = np.percentile(diffs, (1 - alpha / 2) * 100)\n",
    "    ci = (ci_l, ci_r)\n",
    "    significant = True if ci_l * ci_r > 0 else False\n",
    "    return ci, significant"
   ]
  },
  {
   "cell_type": "code",
   "execution_count": 7,
   "metadata": {},
   "outputs": [
    {
     "name": "stdout",
     "output_type": "stream",
     "text": [
      "A MEAN:  10.00096686814095\n",
      "B MEAN:  10.100981034036048\n"
     ]
    }
   ],
   "source": [
    "effect = 0.01\n",
    "a_mean = 10\n",
    "sample_size = 100_000\n",
    "\n",
    "a = np.random.normal(a_mean, 1, sample_size)\n",
    "b = np.random.normal(a_mean*(1+effect), 1, sample_size)\n",
    "\n",
    "print(\"A MEAN: \", np.mean(a))\n",
    "print(\"B MEAN: \", np.mean(b))"
   ]
  },
  {
   "cell_type": "code",
   "execution_count": 9,
   "metadata": {},
   "outputs": [
    {
     "name": "stdout",
     "output_type": "stream",
     "text": [
      "CI DIFF:      (0.09131586456412144, 0.10875123646705277)\n",
      "SIGNIFICANT:  True\n"
     ]
    }
   ],
   "source": [
    "diffs = bootstrap_diff(a, b, bs_iters=10_000, metric=\"mean\")\n",
    "ci_diffs, sig = ci(diffs)\n",
    "print(\"CI DIFF:     \", ci_diffs)\n",
    "print(\"SIGNIFICANT: \", sig)"
   ]
  }
 ],
 "metadata": {
  "kernelspec": {
   "display_name": "analytics",
   "language": "python",
   "name": "python3"
  },
  "language_info": {
   "codemirror_mode": {
    "name": "ipython",
    "version": 3
   },
   "file_extension": ".py",
   "mimetype": "text/x-python",
   "name": "python",
   "nbconvert_exporter": "python",
   "pygments_lexer": "ipython3",
   "version": "3.10.6"
  }
 },
 "nbformat": 4,
 "nbformat_minor": 2
}

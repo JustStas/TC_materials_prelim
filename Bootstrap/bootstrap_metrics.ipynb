{
 "cells": [
  {
   "cell_type": "code",
   "execution_count": 12,
   "metadata": {},
   "outputs": [],
   "source": [
    "import matplotlib.pyplot as plt\n",
    "import numpy as np\n",
    "\n",
    "from sklearn import datasets, linear_model\n",
    "from sklearn.metrics import mean_squared_error, r2_score\n",
    "from sklearn.model_selection import train_test_split"
   ]
  },
  {
   "cell_type": "markdown",
   "metadata": {},
   "source": [
    "## 1. Грузим данные и тренируем модельку"
   ]
  },
  {
   "cell_type": "code",
   "execution_count": 25,
   "metadata": {},
   "outputs": [
    {
     "name": "stderr",
     "output_type": "stream",
     "text": [
      "/Users/stanislav.nosulenko/opt/anaconda3/envs/analytics/lib/python3.10/site-packages/sklearn/linear_model/_logistic.py:458: ConvergenceWarning: lbfgs failed to converge (status=1):\n",
      "STOP: TOTAL NO. of ITERATIONS REACHED LIMIT.\n",
      "\n",
      "Increase the number of iterations (max_iter) or scale the data as shown in:\n",
      "    https://scikit-learn.org/stable/modules/preprocessing.html\n",
      "Please also refer to the documentation for alternative solver options:\n",
      "    https://scikit-learn.org/stable/modules/linear_model.html#logistic-regression\n",
      "  n_iter_i = _check_optimize_result(\n"
     ]
    }
   ],
   "source": [
    "# Load the diabetes dataset\n",
    "X, y = datasets.load_breast_cancer(return_X_y=True)\n",
    "\n",
    "# # Use only one feature\n",
    "# X = X[:, np.newaxis, 2]\n",
    "\n",
    "# Split the data into training/testing sets\n",
    "X_train, X_test, y_train, y_test = train_test_split(X, y, test_size=0.2)\n",
    "\n",
    "# Create linear regression object\n",
    "regr = linear_model.LogisticRegression()\n",
    "\n",
    "# Train the model using the training sets\n",
    "regr.fit(X_train, y_train)\n",
    "\n",
    "# Make predictions using the testing set\n",
    "y_pred = regr.predict(X_test)"
   ]
  },
  {
   "cell_type": "markdown",
   "metadata": {},
   "source": [
    "## 2. Оцениваем ДИ ROC AUC"
   ]
  },
  {
   "cell_type": "code",
   "execution_count": 35,
   "metadata": {},
   "outputs": [],
   "source": [
    "from sklearn.metrics import roc_auc_score\n",
    "from sklearn.utils import resample\n",
    "\n",
    "def smooth_bootstrap_auc(data, target, n_iterations=1000, alpha=0.05):\n",
    "    \"\"\"\n",
    "    Calculates the bootstrapped confidence interval for the ROC AUC metric.\n",
    "\n",
    "    :param data: array-like, shape = [n_samples, n_features]\n",
    "                 The input samples.\n",
    "    :param target: array-like, shape = [n_samples]\n",
    "                   The target values (binary classification).\n",
    "    :param n_iterations: int, default=1000\n",
    "                         The number of bootstrap samples to use.\n",
    "    :param alpha: float, default=0.05\n",
    "                  The significance level (for a 95% confidence interval, alpha=0.05).\n",
    "\n",
    "    :return: tuple(float, float)\n",
    "             The lower and upper bound of the confidence interval.\n",
    "    \"\"\"\n",
    "    bootstrapped_scores = []\n",
    "\n",
    "    for _ in range(n_iterations):\n",
    "        # Bootstrap resample\n",
    "        indices = resample(np.arange(len(data)), replace=True)\n",
    "        if len(np.unique(target[indices])) < 2:\n",
    "            # If sample doesn't have both classes, skip this iteration\n",
    "            continue\n",
    "\n",
    "        score = roc_auc_score(target[indices], data[indices])\n",
    "        bootstrapped_scores.append(score)\n",
    "\n",
    "    # Calculate the percentiles for the confidence interval\n",
    "    sorted_scores = np.array(bootstrapped_scores)\n",
    "    sorted_scores.sort()\n",
    "\n",
    "    # 100*(1-alpha) confidence interval\n",
    "    lower = np.percentile(sorted_scores, 100*alpha/2)\n",
    "    upper = np.percentile(sorted_scores, 100*(1-alpha/2))\n",
    "\n",
    "    return lower, upper"
   ]
  },
  {
   "cell_type": "code",
   "execution_count": 36,
   "metadata": {},
   "outputs": [
    {
     "name": "stdout",
     "output_type": "stream",
     "text": [
      "AUC: 0.9107142857142856\n",
      "95% CI: 0.8525595238095238 0.9605263157894737\n"
     ]
    }
   ],
   "source": [
    "AUC_l, AUC_u = smooth_bootstrap_auc(y_pred, y_test)\n",
    "AUC = roc_auc_score(y_test, y_pred)\n",
    "print('AUC:', AUC)\n",
    "print('95% CI:', AUC_l, AUC_u )"
   ]
  }
 ],
 "metadata": {
  "kernelspec": {
   "display_name": "analytics",
   "language": "python",
   "name": "python3"
  },
  "language_info": {
   "codemirror_mode": {
    "name": "ipython",
    "version": 3
   },
   "file_extension": ".py",
   "mimetype": "text/x-python",
   "name": "python",
   "nbconvert_exporter": "python",
   "pygments_lexer": "ipython3",
   "version": "3.10.6"
  }
 },
 "nbformat": 4,
 "nbformat_minor": 2
}

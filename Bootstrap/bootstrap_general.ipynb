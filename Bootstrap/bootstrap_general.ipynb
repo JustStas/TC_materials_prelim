{
 "cells": [
  {
   "cell_type": "code",
   "execution_count": 25,
   "metadata": {},
   "outputs": [],
   "source": [
    "import numpy as np\n",
    "np.random.seed(42)"
   ]
  },
  {
   "cell_type": "markdown",
   "metadata": {},
   "source": [
    "# Имплементации бутстрепа"
   ]
  },
  {
   "cell_type": "markdown",
   "metadata": {},
   "source": [
    "## Ванильный бутстреп"
   ]
  },
  {
   "cell_type": "markdown",
   "metadata": {},
   "source": [
    "Классический бутстреп. Сгенерируем 1000 выборок с возвращением из исходной выборки и посчитаем среднее значение в каждой выборке. На выходе получаем 1000 средних значений, на основе которых можно построить доверительный интервал."
   ]
  },
  {
   "cell_type": "code",
   "execution_count": 26,
   "metadata": {},
   "outputs": [],
   "source": [
    "def loop_bootstrap(a: np.ndarray, bs_iters: int = 10000, agg=\"mean\", **kwargs) -> np.ndarray:\n",
    "    \"\"\"Return a sampling with replacement with given number of iterations\n",
    "\n",
    "    Arguments:\n",
    "    a:          Dataset to sample from\n",
    "    bs_iters:   Number of sampl ing iteration\n",
    "    agg:        Aggregation method to use, must be in [\"mean\", \"median\", \"quantile\"]\n",
    "    Returns:\n",
    "    np.ndarray with samples of size(bs_iters, len(a))\n",
    "    \"\"\"\n",
    "    if agg not in [\"mean\", \"median\", \"quantile\"]:\n",
    "        raise ValueError(\"agg should be in ['mean', 'median', 'quantile']\")\n",
    "    res = []\n",
    "    for _ in range(bs_iters):\n",
    "        if agg == \"mean\":\n",
    "            res.append(np.mean(np.random.choice(a, len(a), replace=True)))\n",
    "        elif agg == \"median\":\n",
    "            res.append(np.median(np.random.choice(a, len(a), replace=True)))\n",
    "        elif agg == \"quantile\":\n",
    "            res.append(np.quantile(np.random.choice(a, len(a), replace=True)), q=kwargs[\"q\"])\n",
    "    return np.array(res)\n",
    "\n",
    "\n"
   ]
  },
  {
   "cell_type": "markdown",
   "metadata": {},
   "source": [
    "## Numpy-бутстреп"
   ]
  },
  {
   "cell_type": "markdown",
   "metadata": {},
   "source": [
    "Имплементация бутстрепа через библиотеку numpy. В отличие от предыдущего решения, здесь не используется цикл, что иногда ускоряет процесс, но зато потребляет больше памяти."
   ]
  },
  {
   "cell_type": "code",
   "execution_count": 27,
   "metadata": {},
   "outputs": [],
   "source": [
    "def np_bootstrap(a: np.ndarray, bs_iters: int = 10000, agg='mean', **kwargs) -> np.ndarray:\n",
    "    \"\"\"Return a sampling with replacement with given number of iterations\n",
    "\n",
    "    Arguments:\n",
    "    a:          Dataset to sample from\n",
    "    bs_iters:    Number of sampl ing iteration\n",
    "    Returns:\n",
    "    np.ndarray with samples of size(bs_iters, len(a))\n",
    "    \"\"\"\n",
    "    samples = np.random.choice(a, (bs_iters, len(a)), replace=True)\n",
    "    if agg == 'mean':\n",
    "        res = np.mean(samples, axis=1)\n",
    "    elif agg == 'median':\n",
    "        res = np.median(samples, axis=1)\n",
    "    elif agg == 'quantile':\n",
    "        res = np.quantile(samples, q=kwargs['q'], axis=1)\n",
    "    else:\n",
    "        raise ValueError(\"agg should be in ['mean', 'median', 'quantile']\")\n",
    "    return res"
   ]
  },
  {
   "cell_type": "markdown",
   "metadata": {},
   "source": [
    "## SciPy-бутстреп"
   ]
  },
  {
   "cell_type": "markdown",
   "metadata": {},
   "source": [
    "Готовая имплементация бутстрепа из библиотеки scipy. Ссылка на документацию: https://docs.scipy.org/doc/scipy/reference/generated/scipy.stats.bootstrap.html\n",
    "\n",
    "В этой имплементации много удобного функционала - можно сразу считать разницу между двумя выборками (и при необходимости бутстрапить их попарно), строить ДИ по 3м разным методам и многое другое. Рекомендую покопаться."
   ]
  },
  {
   "cell_type": "code",
   "execution_count": 28,
   "metadata": {},
   "outputs": [],
   "source": [
    "from scipy.stats import bootstrap as sp_bootstrap"
   ]
  },
  {
   "cell_type": "markdown",
   "metadata": {},
   "source": [
    "## Сравнение"
   ]
  },
  {
   "cell_type": "code",
   "execution_count": 29,
   "metadata": {},
   "outputs": [
    {
     "name": "stdout",
     "output_type": "stream",
     "text": [
      "SHAPE (100000,)\n",
      "MEAN 10.001933736281899\n"
     ]
    }
   ],
   "source": [
    "dataset = np.random.normal(10, 2, 100_000)\n",
    "print('SHAPE', dataset.shape)\n",
    "print('MEAN', np.mean(dataset))"
   ]
  },
  {
   "cell_type": "code",
   "execution_count": 30,
   "metadata": {},
   "outputs": [],
   "source": [
    "def ci(diffs: np.ndarray, alpha: float = 0.05, **kwargs):\n",
    "    # -> tuple[tuple[float, float], bool]:\n",
    "    \"\"\"Return a sampling with replacement with given number of iterations\n",
    "\n",
    "    Arguments:\n",
    "        diffs:  Dataset to compute percentiles upon\n",
    "        alpha:  Confidence interval alpha\n",
    "    Returns:\n",
    "        tuple[CI left, CI right]\n",
    "    \"\"\"\n",
    "    ci_l = np.percentile(diffs, (alpha / 2) * 100)\n",
    "    ci_r = np.percentile(diffs, (1 - alpha / 2) * 100)\n",
    "    return (ci_l, ci_r)"
   ]
  },
  {
   "cell_type": "code",
   "execution_count": 31,
   "metadata": {},
   "outputs": [
    {
     "name": "stdout",
     "output_type": "stream",
     "text": [
      "1.03 s ± 10.6 ms per loop (mean ± std. dev. of 7 runs, 1 loop each)\n"
     ]
    }
   ],
   "source": [
    "%%timeit\n",
    "loop_bs = loop_bootstrap(dataset, bs_iters=1_000, agg='mean')"
   ]
  },
  {
   "cell_type": "code",
   "execution_count": 32,
   "metadata": {},
   "outputs": [
    {
     "name": "stdout",
     "output_type": "stream",
     "text": [
      "(9.980653991484209, 10.00533323276719)\n"
     ]
    }
   ],
   "source": [
    "print(ci(loop_bs))"
   ]
  },
  {
   "cell_type": "code",
   "execution_count": 33,
   "metadata": {},
   "outputs": [
    {
     "name": "stdout",
     "output_type": "stream",
     "text": [
      "1.46 s ± 12.3 ms per loop (mean ± std. dev. of 7 runs, 1 loop each)\n"
     ]
    }
   ],
   "source": [
    "%%timeit\n",
    "np_bs = np_bootstrap(dataset, bs_iters=1_000, agg='mean')"
   ]
  },
  {
   "cell_type": "code",
   "execution_count": 34,
   "metadata": {},
   "outputs": [
    {
     "name": "stdout",
     "output_type": "stream",
     "text": [
      "(9.979202438984808, 10.004921295735473)\n"
     ]
    }
   ],
   "source": [
    "print(ci(np_bs))"
   ]
  },
  {
   "cell_type": "code",
   "execution_count": 35,
   "metadata": {},
   "outputs": [
    {
     "name": "stdout",
     "output_type": "stream",
     "text": [
      "1.5 s ± 17.8 ms per loop (mean ± std. dev. of 7 runs, 1 loop each)\n"
     ]
    }
   ],
   "source": [
    "%%timeit\n",
    "sp_bs = sp_bootstrap((dataset,), statistic=np.mean, n_resamples=1_000, method='percentile')"
   ]
  },
  {
   "cell_type": "code",
   "execution_count": 36,
   "metadata": {},
   "outputs": [
    {
     "name": "stdout",
     "output_type": "stream",
     "text": [
      "ConfidenceInterval(low=9.979809384157058, high=10.004748508664337)\n"
     ]
    }
   ],
   "source": [
    "print(sp_bs.confidence_interval)"
   ]
  }
 ],
 "metadata": {
  "kernelspec": {
   "display_name": "analytics",
   "language": "python",
   "name": "python3"
  },
  "language_info": {
   "codemirror_mode": {
    "name": "ipython",
    "version": 3
   },
   "file_extension": ".py",
   "mimetype": "text/x-python",
   "name": "python",
   "nbconvert_exporter": "python",
   "pygments_lexer": "ipython3",
   "version": "3.10.6"
  }
 },
 "nbformat": 4,
 "nbformat_minor": 2
}

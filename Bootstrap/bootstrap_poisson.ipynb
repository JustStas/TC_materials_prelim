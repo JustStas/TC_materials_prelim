{
 "cells": [
  {
   "cell_type": "code",
   "execution_count": 20,
   "metadata": {},
   "outputs": [],
   "source": [
    "import numpy as np\n",
    "np.random.seed(42)"
   ]
  },
  {
   "cell_type": "code",
   "execution_count": 37,
   "metadata": {},
   "outputs": [],
   "source": [
    "def loop_bootstrap(a: np.ndarray, bs_iters: int = 1_000, agg=\"mean\", **kwargs) -> np.ndarray:\n",
    "    \"\"\"Return a sampling with replacement with given number of iterations\n",
    "\n",
    "    Arguments:\n",
    "    a:          Dataset to sample from\n",
    "    bs_iters:   Number of sampl ing iteration\n",
    "    agg:        Aggregation method to use, must be in [\"mean\", \"median\", \"quantile\"]\n",
    "    Returns:\n",
    "    np.ndarray with samples of size(bs_iters, len(a))\n",
    "    \"\"\"\n",
    "    if agg not in [\"mean\", \"median\", \"quantile\"]:\n",
    "        raise ValueError(\"agg should be in ['mean', 'median', 'quantile']\")\n",
    "    res = []\n",
    "    for _ in range(bs_iters):\n",
    "        if agg == \"mean\":\n",
    "            res.append(np.mean(np.random.choice(a, len(a), replace=True)))\n",
    "        elif agg == \"median\":\n",
    "            res.append(np.median(np.random.choice(a, len(a), replace=True)))\n",
    "        elif agg == \"quantile\":\n",
    "            res.append(np.quantile(np.random.choice(a, len(a), replace=True)), q=kwargs[\"q\"])\n",
    "    return np.array(res)\n",
    "\n",
    "def poisson_bootstrap(a:np.ndarray, bs_iters:int = 1_000):\n",
    "    res = []\n",
    "    for _ in range(bs_iters):\n",
    "        poisson_weights = np.random.poisson(1, size=len(a))\n",
    "        weights_sum = np.sum(poisson_weights)\n",
    "        a_weighted = a * poisson_weights\n",
    "        weighted_mean = np.sum(a_weighted) / weights_sum\n",
    "        res.append(weighted_mean)\n",
    "    return np.array(res)\n",
    "\n",
    "def poisson_bootstrap_preweighted(a:np.ndarray, weights:np.ndarray):\n",
    "    weights_sum = np.sum(weights, axis=1)\n",
    "    a_weighted = a * weights\n",
    "    weighted_mean = np.sum(a_weighted, axis=1) / weights_sum\n",
    "    return weighted_mean\n",
    "\n",
    "def ci(diffs: np.ndarray, alpha: float = 0.05, **kwargs):\n",
    "    # -> tuple[tuple[float, float], bool]:\n",
    "    \"\"\"Return a sampling with replacement with given number of iterations\n",
    "\n",
    "    Arguments:\n",
    "        diffs:  Dataset to compute percentiles upon\n",
    "        alpha:  Confidence interval alpha\n",
    "    Returns:\n",
    "        tuple[CI left, CI right]\n",
    "    \"\"\"\n",
    "    ci_l = np.percentile(diffs, (alpha / 2) * 100)\n",
    "    ci_r = np.percentile(diffs, (1 - alpha / 2) * 100)\n",
    "    return (ci_l, ci_r)"
   ]
  },
  {
   "cell_type": "code",
   "execution_count": 52,
   "metadata": {},
   "outputs": [],
   "source": [
    "DATASET_SIZE = 500_000"
   ]
  },
  {
   "cell_type": "code",
   "execution_count": 53,
   "metadata": {},
   "outputs": [],
   "source": [
    "dataset = np.random.normal(10, 2, DATASET_SIZE)"
   ]
  },
  {
   "cell_type": "code",
   "execution_count": 54,
   "metadata": {},
   "outputs": [
    {
     "name": "stdout",
     "output_type": "stream",
     "text": [
      "Vanilla bootstrap (9.992997150340356, 10.004097500424876)\n"
     ]
    }
   ],
   "source": [
    "vanilla_bs = loop_bootstrap(dataset)\n",
    "print('Vanilla bootstrap', ci(vanilla_bs))"
   ]
  },
  {
   "cell_type": "code",
   "execution_count": 55,
   "metadata": {},
   "outputs": [
    {
     "name": "stdout",
     "output_type": "stream",
     "text": [
      "Poisson bootstrap (9.992943040141007, 10.004210535657265)\n"
     ]
    }
   ],
   "source": [
    "poisson_bs = poisson_bootstrap(dataset)\n",
    "print('Poisson bootstrap', ci(poisson_bs))"
   ]
  },
  {
   "cell_type": "code",
   "execution_count": 56,
   "metadata": {},
   "outputs": [],
   "source": [
    "pre_weights = np.random.poisson(1, size=(1_000, len(dataset)))"
   ]
  },
  {
   "cell_type": "code",
   "execution_count": 57,
   "metadata": {},
   "outputs": [
    {
     "name": "stdout",
     "output_type": "stream",
     "text": [
      "Poisson bootstrap (9.992943040141007, 10.004210535657265)\n"
     ]
    }
   ],
   "source": [
    "poisson_bs_preweighted = poisson_bootstrap_preweighted(dataset, pre_weights)\n",
    "print('Poisson bootstrap', ci(poisson_bs))"
   ]
  },
  {
   "cell_type": "markdown",
   "metadata": {},
   "source": [
    "Примерная имплементация в Spark\n",
    "1. Единожды рассчитываем и сохраняем табличку с полями |bootstrap_iteration|item_idx|poisson_weight|. Максимальный item_idx можно задать, например, в 1М.\n",
    "2. Когда приходит время, собираем табличку с полями |item|metric_to_assess|\n",
    "3. В табличке из п.2 собираем поле item_hash как hash(concatenate(item, test_name, metric_name))\n",
    "4. В табличке из п.2 собираем поле item_idx как индекс строки после сортировки по полю item_hash\n",
    "5. Делаем Join двух табличек по полю item_idx\n",
    "6. Домножаем metric_to_assess на poisson_weight. Получаем weighted_metric\n",
    "7. Делаем GroupBy сджойненной таблички по полю bootstrap_iteration, считаем сумму weighted_metric и сумму poisson_weight\n",
    "8. Считаем поле final_metric как sum(weighted_metric) / sum(poisson_weight)"
   ]
  },
  {
   "cell_type": "markdown",
   "metadata": {},
   "source": []
  }
 ],
 "metadata": {
  "kernelspec": {
   "display_name": "analytics",
   "language": "python",
   "name": "python3"
  },
  "language_info": {
   "codemirror_mode": {
    "name": "ipython",
    "version": 3
   },
   "file_extension": ".py",
   "mimetype": "text/x-python",
   "name": "python",
   "nbconvert_exporter": "python",
   "pygments_lexer": "ipython3",
   "version": "3.10.6"
  }
 },
 "nbformat": 4,
 "nbformat_minor": 2
}
